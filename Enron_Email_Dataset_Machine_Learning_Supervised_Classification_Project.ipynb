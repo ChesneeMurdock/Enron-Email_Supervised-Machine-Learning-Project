{
  "nbformat": 4,
  "nbformat_minor": 0,
  "metadata": {
    "colab": {
      "provenance": [],
      "authorship_tag": "ABX9TyOo4racOzHZ7OtdjbqD4xMY",
      "include_colab_link": true
    },
    "kernelspec": {
      "name": "python3",
      "display_name": "Python 3"
    },
    "language_info": {
      "name": "python"
    }
  },
  "cells": [
    {
      "cell_type": "markdown",
      "metadata": {
        "id": "view-in-github",
        "colab_type": "text"
      },
      "source": [
        "<a href=\"https://colab.research.google.com/github/ChesneeMurdock/Enron-Email_Supervised-Machine-Learning-Project/blob/main/Enron_Email_Dataset_Machine_Learning_Supervised_Classification_Project.ipynb\" target=\"_parent\"><img src=\"https://colab.research.google.com/assets/colab-badge.svg\" alt=\"Open In Colab\"/></a>"
      ]
    },
    {
      "cell_type": "markdown",
      "source": [
        "# **Introduction: Machine Learning Supervised Classification Project**\n",
        "\n",
        "##**Purpose of project: Detecting Spam Messages**\n",
        "\n",
        "### **Consists of 1 file: Enron Email Dataset**\n",
        "emails.csv(1.43 GB): 5,574 messages\n",
        "\n",
        "### **Type of Project:**\n",
        "Building a Predictive Classification Model to detect Spam messages with high accuracry, precision, and recall.\n",
        "\n",
        "### **Steps for the project**\n",
        "* Vectorize the Text Data iwth TF-IDF\n",
        "\n",
        "* Use Oversampling to balance classes using RandomOverSampler\n",
        "\n",
        "* Trained a classifier on the resampled data using Logistic Regression\n",
        "\n",
        "Then, compare results using a Neural Network. ***Which approach would be better***?\n",
        "\n",
        "* Applied Text Tokenization and Padding to convert email text into sequences of words\n",
        "\n",
        "* Truncate them to equal length to put into a neural network\n",
        "\n",
        "* Compiled and trained the model\n",
        "\n",
        "\n",
        "### **Packages used:**\n",
        "* import kagglehub\n",
        "* import pandas as pd\n",
        "* import numpy as np\n",
        "* import matplotlib.pyplot as plt\n",
        "* import os\n",
        "* import seaborn as sns\n",
        "* import nltk\n",
        "* from nltk.corpus import stopwords\n",
        "* from wordcloud import WordCloud\n",
        "* from sklearn.model_selection import train_test_split\n",
        "* from sklearn.feature_extraction.text import TfidfVectorizer\n",
        "* from sklearn.naive_bayes import MultinomialNB\n",
        "* from sklearn.metrics import classification_report\n",
        "* from imblearn.over_sampling import RandomOverSampler\n",
        "* from sklearn.metrics import confusion_matrix\n",
        "* from tensorflow.keras.preprocessing.text import Tokenizer\n",
        "* from tensorflow.keras.preprocessing.sequence import pad_sequences\n",
        "* from tensorflow.keras.models import Sequential\n",
        "* from tensorflow.keras.layers import Embedding, GlobalAveragePooling1D, Dense\n",
        "* from sklearn.metrics import precision_recall_curve\n",
        "* !pip install tensorflow\n",
        "\n",
        "\n",
        "\n",
        "\n",
        "\n"
      ],
      "metadata": {
        "id": "GCMzFbycI9ef"
      }
    },
    {
      "cell_type": "markdown",
      "source": [
        "\n",
        "\n",
        "---\n",
        "\n"
      ],
      "metadata": {
        "id": "yATYXd_KN6gn"
      }
    },
    {
      "cell_type": "markdown",
      "source": [
        "# **Importing Libraries and Reading Data**"
      ],
      "metadata": {
        "id": "K_79f6-GJjiD"
      }
    },
    {
      "cell_type": "code",
      "execution_count": 39,
      "metadata": {
        "colab": {
          "base_uri": "https://localhost:8080/"
        },
        "id": "0LeZR432Ildi",
        "outputId": "ce66e260-6132-443d-9b57-090b44fe7743"
      },
      "outputs": [
        {
          "output_type": "stream",
          "name": "stdout",
          "text": [
            "Requirement already satisfied: tensorflow in /usr/local/lib/python3.11/dist-packages (2.18.0)\n",
            "Requirement already satisfied: absl-py>=1.0.0 in /usr/local/lib/python3.11/dist-packages (from tensorflow) (1.4.0)\n",
            "Requirement already satisfied: astunparse>=1.6.0 in /usr/local/lib/python3.11/dist-packages (from tensorflow) (1.6.3)\n",
            "Requirement already satisfied: flatbuffers>=24.3.25 in /usr/local/lib/python3.11/dist-packages (from tensorflow) (25.2.10)\n",
            "Requirement already satisfied: gast!=0.5.0,!=0.5.1,!=0.5.2,>=0.2.1 in /usr/local/lib/python3.11/dist-packages (from tensorflow) (0.6.0)\n",
            "Requirement already satisfied: google-pasta>=0.1.1 in /usr/local/lib/python3.11/dist-packages (from tensorflow) (0.2.0)\n",
            "Requirement already satisfied: libclang>=13.0.0 in /usr/local/lib/python3.11/dist-packages (from tensorflow) (18.1.1)\n",
            "Requirement already satisfied: opt-einsum>=2.3.2 in /usr/local/lib/python3.11/dist-packages (from tensorflow) (3.4.0)\n",
            "Requirement already satisfied: packaging in /usr/local/lib/python3.11/dist-packages (from tensorflow) (24.2)\n",
            "Requirement already satisfied: protobuf!=4.21.0,!=4.21.1,!=4.21.2,!=4.21.3,!=4.21.4,!=4.21.5,<6.0.0dev,>=3.20.3 in /usr/local/lib/python3.11/dist-packages (from tensorflow) (5.29.5)\n",
            "Requirement already satisfied: requests<3,>=2.21.0 in /usr/local/lib/python3.11/dist-packages (from tensorflow) (2.32.3)\n",
            "Requirement already satisfied: setuptools in /usr/local/lib/python3.11/dist-packages (from tensorflow) (75.2.0)\n",
            "Requirement already satisfied: six>=1.12.0 in /usr/local/lib/python3.11/dist-packages (from tensorflow) (1.17.0)\n",
            "Requirement already satisfied: termcolor>=1.1.0 in /usr/local/lib/python3.11/dist-packages (from tensorflow) (3.1.0)\n",
            "Requirement already satisfied: typing-extensions>=3.6.6 in /usr/local/lib/python3.11/dist-packages (from tensorflow) (4.14.0)\n",
            "Requirement already satisfied: wrapt>=1.11.0 in /usr/local/lib/python3.11/dist-packages (from tensorflow) (1.17.2)\n",
            "Requirement already satisfied: grpcio<2.0,>=1.24.3 in /usr/local/lib/python3.11/dist-packages (from tensorflow) (1.73.0)\n",
            "Requirement already satisfied: tensorboard<2.19,>=2.18 in /usr/local/lib/python3.11/dist-packages (from tensorflow) (2.18.0)\n",
            "Requirement already satisfied: keras>=3.5.0 in /usr/local/lib/python3.11/dist-packages (from tensorflow) (3.8.0)\n",
            "Requirement already satisfied: numpy<2.1.0,>=1.26.0 in /usr/local/lib/python3.11/dist-packages (from tensorflow) (2.0.2)\n",
            "Requirement already satisfied: h5py>=3.11.0 in /usr/local/lib/python3.11/dist-packages (from tensorflow) (3.14.0)\n",
            "Requirement already satisfied: ml-dtypes<0.5.0,>=0.4.0 in /usr/local/lib/python3.11/dist-packages (from tensorflow) (0.4.1)\n",
            "Requirement already satisfied: tensorflow-io-gcs-filesystem>=0.23.1 in /usr/local/lib/python3.11/dist-packages (from tensorflow) (0.37.1)\n",
            "Requirement already satisfied: wheel<1.0,>=0.23.0 in /usr/local/lib/python3.11/dist-packages (from astunparse>=1.6.0->tensorflow) (0.45.1)\n",
            "Requirement already satisfied: rich in /usr/local/lib/python3.11/dist-packages (from keras>=3.5.0->tensorflow) (13.9.4)\n",
            "Requirement already satisfied: namex in /usr/local/lib/python3.11/dist-packages (from keras>=3.5.0->tensorflow) (0.1.0)\n",
            "Requirement already satisfied: optree in /usr/local/lib/python3.11/dist-packages (from keras>=3.5.0->tensorflow) (0.16.0)\n",
            "Requirement already satisfied: charset-normalizer<4,>=2 in /usr/local/lib/python3.11/dist-packages (from requests<3,>=2.21.0->tensorflow) (3.4.2)\n",
            "Requirement already satisfied: idna<4,>=2.5 in /usr/local/lib/python3.11/dist-packages (from requests<3,>=2.21.0->tensorflow) (3.10)\n",
            "Requirement already satisfied: urllib3<3,>=1.21.1 in /usr/local/lib/python3.11/dist-packages (from requests<3,>=2.21.0->tensorflow) (2.4.0)\n",
            "Requirement already satisfied: certifi>=2017.4.17 in /usr/local/lib/python3.11/dist-packages (from requests<3,>=2.21.0->tensorflow) (2025.6.15)\n",
            "Requirement already satisfied: markdown>=2.6.8 in /usr/local/lib/python3.11/dist-packages (from tensorboard<2.19,>=2.18->tensorflow) (3.8)\n",
            "Requirement already satisfied: tensorboard-data-server<0.8.0,>=0.7.0 in /usr/local/lib/python3.11/dist-packages (from tensorboard<2.19,>=2.18->tensorflow) (0.7.2)\n",
            "Requirement already satisfied: werkzeug>=1.0.1 in /usr/local/lib/python3.11/dist-packages (from tensorboard<2.19,>=2.18->tensorflow) (3.1.3)\n",
            "Requirement already satisfied: MarkupSafe>=2.1.1 in /usr/local/lib/python3.11/dist-packages (from werkzeug>=1.0.1->tensorboard<2.19,>=2.18->tensorflow) (3.0.2)\n",
            "Requirement already satisfied: markdown-it-py>=2.2.0 in /usr/local/lib/python3.11/dist-packages (from rich->keras>=3.5.0->tensorflow) (3.0.0)\n",
            "Requirement already satisfied: pygments<3.0.0,>=2.13.0 in /usr/local/lib/python3.11/dist-packages (from rich->keras>=3.5.0->tensorflow) (2.19.1)\n",
            "Requirement already satisfied: mdurl~=0.1 in /usr/local/lib/python3.11/dist-packages (from markdown-it-py>=2.2.0->rich->keras>=3.5.0->tensorflow) (0.1.2)\n"
          ]
        },
        {
          "output_type": "stream",
          "name": "stderr",
          "text": [
            "[nltk_data] Downloading package stopwords to /root/nltk_data...\n",
            "[nltk_data]   Package stopwords is already up-to-date!\n",
            "[nltk_data] Downloading package punkt to /root/nltk_data...\n",
            "[nltk_data]   Package punkt is already up-to-date!\n"
          ]
        },
        {
          "output_type": "stream",
          "name": "stdout",
          "text": [
            "Path to dataset files: /kaggle/input/sms-spam-collection-dataset\n"
          ]
        }
      ],
      "source": [
        "# Import Enron Email dataset\n",
        "# Binary Classification Prediciton for Spam emails for Enron Emails\n",
        "\n",
        "# Import packages\n",
        "import kagglehub\n",
        "import pandas as pd\n",
        "import numpy as np\n",
        "import matplotlib.pyplot as plt\n",
        "import os\n",
        "import seaborn as sns\n",
        "import nltk # Natural language processing\n",
        "import tensorflow as tf\n",
        "from nltk.corpus import stopwords\n",
        "from wordcloud import WordCloud\n",
        "from sklearn.model_selection import train_test_split\n",
        "from sklearn.feature_extraction.text import TfidfVectorizer\n",
        "from sklearn.naive_bayes import MultinomialNB\n",
        "from sklearn.metrics import classification_report\n",
        "from imblearn.over_sampling import RandomOverSampler\n",
        "from sklearn.metrics import confusion_matrix\n",
        "from tensorflow.keras.preprocessing.text import Tokenizer\n",
        "from tensorflow.keras.preprocessing.sequence import pad_sequences\n",
        "from tensorflow.keras.models import Sequential\n",
        "from tensorflow.keras.layers import Embedding, GlobalAveragePooling1D, Dense\n",
        "\n",
        "!pip install tensorflow\n",
        "\n",
        "# Downloading NLTK data\n",
        "nltk.download('stopwords')   # Downloading stopwords data\n",
        "nltk.download('punkt')       # Downloading tokenizer data\n",
        "\n",
        "# Download latest version\n",
        "path = kagglehub.dataset_download(\"uciml/sms-spam-collection-dataset\")\n",
        "\n",
        "print(\"Path to dataset files:\", path)"
      ]
    },
    {
      "cell_type": "code",
      "source": [
        "# Verify GPU or CPU\n",
        "print(tf.__version__)\n",
        "print(\"Num GPUs Available:\", len(tf.config.list_physical_devices('GPU')))"
      ],
      "metadata": {
        "colab": {
          "base_uri": "https://localhost:8080/"
        },
        "id": "3mmnYBa8GNWK",
        "outputId": "e3c498e1-1892-44ba-9cbc-227b4ea10398"
      },
      "execution_count": 40,
      "outputs": [
        {
          "output_type": "stream",
          "name": "stdout",
          "text": [
            "2.18.0\n",
            "Num GPUs Available: 0\n"
          ]
        }
      ]
    },
    {
      "cell_type": "code",
      "source": [
        "# Find the correct filename by listing all files in 'path'\n",
        "print(os.listdir(path))"
      ],
      "metadata": {
        "colab": {
          "base_uri": "https://localhost:8080/"
        },
        "id": "hthXX07MKArO",
        "outputId": "b68e2c9e-b8b1-4c22-c2ca-a0c3ced41664"
      },
      "execution_count": 41,
      "outputs": [
        {
          "output_type": "stream",
          "name": "stdout",
          "text": [
            "['spam.csv']\n"
          ]
        }
      ]
    },
    {
      "cell_type": "code",
      "source": [
        "# Read the CSV file into a DataFrame\n",
        "data = pd.read_csv('/kaggle/input/sms-spam-collection-dataset/spam.csv', encoding='latin1')"
      ],
      "metadata": {
        "id": "DHgx9GazKJ8f"
      },
      "execution_count": 42,
      "outputs": []
    },
    {
      "cell_type": "markdown",
      "source": [
        "\n",
        "\n",
        "---\n",
        "\n"
      ],
      "metadata": {
        "id": "98MmgWS1N1un"
      }
    },
    {
      "cell_type": "markdown",
      "source": [
        "# **Explore the Data**"
      ],
      "metadata": {
        "id": "B0DW-50dNyr-"
      }
    },
    {
      "cell_type": "code",
      "source": [
        "# To see features and target variable\n",
        "data.head()"
      ],
      "metadata": {
        "colab": {
          "base_uri": "https://localhost:8080/",
          "height": 206
        },
        "id": "40RdBQ93KiXj",
        "outputId": "8f65579b-ae87-43cd-9f07-2d7cce4952d7"
      },
      "execution_count": 43,
      "outputs": [
        {
          "output_type": "execute_result",
          "data": {
            "text/plain": [
              "     v1                                                 v2 Unnamed: 2  \\\n",
              "0   ham  Go until jurong point, crazy.. Available only ...        NaN   \n",
              "1   ham                      Ok lar... Joking wif u oni...        NaN   \n",
              "2  spam  Free entry in 2 a wkly comp to win FA Cup fina...        NaN   \n",
              "3   ham  U dun say so early hor... U c already then say...        NaN   \n",
              "4   ham  Nah I don't think he goes to usf, he lives aro...        NaN   \n",
              "\n",
              "  Unnamed: 3 Unnamed: 4  \n",
              "0        NaN        NaN  \n",
              "1        NaN        NaN  \n",
              "2        NaN        NaN  \n",
              "3        NaN        NaN  \n",
              "4        NaN        NaN  "
            ],
            "text/html": [
              "\n",
              "  <div id=\"df-c1b115c1-ff54-4ecb-ac34-8edc813c5fe0\" class=\"colab-df-container\">\n",
              "    <div>\n",
              "<style scoped>\n",
              "    .dataframe tbody tr th:only-of-type {\n",
              "        vertical-align: middle;\n",
              "    }\n",
              "\n",
              "    .dataframe tbody tr th {\n",
              "        vertical-align: top;\n",
              "    }\n",
              "\n",
              "    .dataframe thead th {\n",
              "        text-align: right;\n",
              "    }\n",
              "</style>\n",
              "<table border=\"1\" class=\"dataframe\">\n",
              "  <thead>\n",
              "    <tr style=\"text-align: right;\">\n",
              "      <th></th>\n",
              "      <th>v1</th>\n",
              "      <th>v2</th>\n",
              "      <th>Unnamed: 2</th>\n",
              "      <th>Unnamed: 3</th>\n",
              "      <th>Unnamed: 4</th>\n",
              "    </tr>\n",
              "  </thead>\n",
              "  <tbody>\n",
              "    <tr>\n",
              "      <th>0</th>\n",
              "      <td>ham</td>\n",
              "      <td>Go until jurong point, crazy.. Available only ...</td>\n",
              "      <td>NaN</td>\n",
              "      <td>NaN</td>\n",
              "      <td>NaN</td>\n",
              "    </tr>\n",
              "    <tr>\n",
              "      <th>1</th>\n",
              "      <td>ham</td>\n",
              "      <td>Ok lar... Joking wif u oni...</td>\n",
              "      <td>NaN</td>\n",
              "      <td>NaN</td>\n",
              "      <td>NaN</td>\n",
              "    </tr>\n",
              "    <tr>\n",
              "      <th>2</th>\n",
              "      <td>spam</td>\n",
              "      <td>Free entry in 2 a wkly comp to win FA Cup fina...</td>\n",
              "      <td>NaN</td>\n",
              "      <td>NaN</td>\n",
              "      <td>NaN</td>\n",
              "    </tr>\n",
              "    <tr>\n",
              "      <th>3</th>\n",
              "      <td>ham</td>\n",
              "      <td>U dun say so early hor... U c already then say...</td>\n",
              "      <td>NaN</td>\n",
              "      <td>NaN</td>\n",
              "      <td>NaN</td>\n",
              "    </tr>\n",
              "    <tr>\n",
              "      <th>4</th>\n",
              "      <td>ham</td>\n",
              "      <td>Nah I don't think he goes to usf, he lives aro...</td>\n",
              "      <td>NaN</td>\n",
              "      <td>NaN</td>\n",
              "      <td>NaN</td>\n",
              "    </tr>\n",
              "  </tbody>\n",
              "</table>\n",
              "</div>\n",
              "    <div class=\"colab-df-buttons\">\n",
              "\n",
              "  <div class=\"colab-df-container\">\n",
              "    <button class=\"colab-df-convert\" onclick=\"convertToInteractive('df-c1b115c1-ff54-4ecb-ac34-8edc813c5fe0')\"\n",
              "            title=\"Convert this dataframe to an interactive table.\"\n",
              "            style=\"display:none;\">\n",
              "\n",
              "  <svg xmlns=\"http://www.w3.org/2000/svg\" height=\"24px\" viewBox=\"0 -960 960 960\">\n",
              "    <path d=\"M120-120v-720h720v720H120Zm60-500h600v-160H180v160Zm220 220h160v-160H400v160Zm0 220h160v-160H400v160ZM180-400h160v-160H180v160Zm440 0h160v-160H620v160ZM180-180h160v-160H180v160Zm440 0h160v-160H620v160Z\"/>\n",
              "  </svg>\n",
              "    </button>\n",
              "\n",
              "  <style>\n",
              "    .colab-df-container {\n",
              "      display:flex;\n",
              "      gap: 12px;\n",
              "    }\n",
              "\n",
              "    .colab-df-convert {\n",
              "      background-color: #E8F0FE;\n",
              "      border: none;\n",
              "      border-radius: 50%;\n",
              "      cursor: pointer;\n",
              "      display: none;\n",
              "      fill: #1967D2;\n",
              "      height: 32px;\n",
              "      padding: 0 0 0 0;\n",
              "      width: 32px;\n",
              "    }\n",
              "\n",
              "    .colab-df-convert:hover {\n",
              "      background-color: #E2EBFA;\n",
              "      box-shadow: 0px 1px 2px rgba(60, 64, 67, 0.3), 0px 1px 3px 1px rgba(60, 64, 67, 0.15);\n",
              "      fill: #174EA6;\n",
              "    }\n",
              "\n",
              "    .colab-df-buttons div {\n",
              "      margin-bottom: 4px;\n",
              "    }\n",
              "\n",
              "    [theme=dark] .colab-df-convert {\n",
              "      background-color: #3B4455;\n",
              "      fill: #D2E3FC;\n",
              "    }\n",
              "\n",
              "    [theme=dark] .colab-df-convert:hover {\n",
              "      background-color: #434B5C;\n",
              "      box-shadow: 0px 1px 3px 1px rgba(0, 0, 0, 0.15);\n",
              "      filter: drop-shadow(0px 1px 2px rgba(0, 0, 0, 0.3));\n",
              "      fill: #FFFFFF;\n",
              "    }\n",
              "  </style>\n",
              "\n",
              "    <script>\n",
              "      const buttonEl =\n",
              "        document.querySelector('#df-c1b115c1-ff54-4ecb-ac34-8edc813c5fe0 button.colab-df-convert');\n",
              "      buttonEl.style.display =\n",
              "        google.colab.kernel.accessAllowed ? 'block' : 'none';\n",
              "\n",
              "      async function convertToInteractive(key) {\n",
              "        const element = document.querySelector('#df-c1b115c1-ff54-4ecb-ac34-8edc813c5fe0');\n",
              "        const dataTable =\n",
              "          await google.colab.kernel.invokeFunction('convertToInteractive',\n",
              "                                                    [key], {});\n",
              "        if (!dataTable) return;\n",
              "\n",
              "        const docLinkHtml = 'Like what you see? Visit the ' +\n",
              "          '<a target=\"_blank\" href=https://colab.research.google.com/notebooks/data_table.ipynb>data table notebook</a>'\n",
              "          + ' to learn more about interactive tables.';\n",
              "        element.innerHTML = '';\n",
              "        dataTable['output_type'] = 'display_data';\n",
              "        await google.colab.output.renderOutput(dataTable, element);\n",
              "        const docLink = document.createElement('div');\n",
              "        docLink.innerHTML = docLinkHtml;\n",
              "        element.appendChild(docLink);\n",
              "      }\n",
              "    </script>\n",
              "  </div>\n",
              "\n",
              "\n",
              "    <div id=\"df-fd294ebc-02ca-4416-9c81-22dab26b152c\">\n",
              "      <button class=\"colab-df-quickchart\" onclick=\"quickchart('df-fd294ebc-02ca-4416-9c81-22dab26b152c')\"\n",
              "                title=\"Suggest charts\"\n",
              "                style=\"display:none;\">\n",
              "\n",
              "<svg xmlns=\"http://www.w3.org/2000/svg\" height=\"24px\"viewBox=\"0 0 24 24\"\n",
              "     width=\"24px\">\n",
              "    <g>\n",
              "        <path d=\"M19 3H5c-1.1 0-2 .9-2 2v14c0 1.1.9 2 2 2h14c1.1 0 2-.9 2-2V5c0-1.1-.9-2-2-2zM9 17H7v-7h2v7zm4 0h-2V7h2v10zm4 0h-2v-4h2v4z\"/>\n",
              "    </g>\n",
              "</svg>\n",
              "      </button>\n",
              "\n",
              "<style>\n",
              "  .colab-df-quickchart {\n",
              "      --bg-color: #E8F0FE;\n",
              "      --fill-color: #1967D2;\n",
              "      --hover-bg-color: #E2EBFA;\n",
              "      --hover-fill-color: #174EA6;\n",
              "      --disabled-fill-color: #AAA;\n",
              "      --disabled-bg-color: #DDD;\n",
              "  }\n",
              "\n",
              "  [theme=dark] .colab-df-quickchart {\n",
              "      --bg-color: #3B4455;\n",
              "      --fill-color: #D2E3FC;\n",
              "      --hover-bg-color: #434B5C;\n",
              "      --hover-fill-color: #FFFFFF;\n",
              "      --disabled-bg-color: #3B4455;\n",
              "      --disabled-fill-color: #666;\n",
              "  }\n",
              "\n",
              "  .colab-df-quickchart {\n",
              "    background-color: var(--bg-color);\n",
              "    border: none;\n",
              "    border-radius: 50%;\n",
              "    cursor: pointer;\n",
              "    display: none;\n",
              "    fill: var(--fill-color);\n",
              "    height: 32px;\n",
              "    padding: 0;\n",
              "    width: 32px;\n",
              "  }\n",
              "\n",
              "  .colab-df-quickchart:hover {\n",
              "    background-color: var(--hover-bg-color);\n",
              "    box-shadow: 0 1px 2px rgba(60, 64, 67, 0.3), 0 1px 3px 1px rgba(60, 64, 67, 0.15);\n",
              "    fill: var(--button-hover-fill-color);\n",
              "  }\n",
              "\n",
              "  .colab-df-quickchart-complete:disabled,\n",
              "  .colab-df-quickchart-complete:disabled:hover {\n",
              "    background-color: var(--disabled-bg-color);\n",
              "    fill: var(--disabled-fill-color);\n",
              "    box-shadow: none;\n",
              "  }\n",
              "\n",
              "  .colab-df-spinner {\n",
              "    border: 2px solid var(--fill-color);\n",
              "    border-color: transparent;\n",
              "    border-bottom-color: var(--fill-color);\n",
              "    animation:\n",
              "      spin 1s steps(1) infinite;\n",
              "  }\n",
              "\n",
              "  @keyframes spin {\n",
              "    0% {\n",
              "      border-color: transparent;\n",
              "      border-bottom-color: var(--fill-color);\n",
              "      border-left-color: var(--fill-color);\n",
              "    }\n",
              "    20% {\n",
              "      border-color: transparent;\n",
              "      border-left-color: var(--fill-color);\n",
              "      border-top-color: var(--fill-color);\n",
              "    }\n",
              "    30% {\n",
              "      border-color: transparent;\n",
              "      border-left-color: var(--fill-color);\n",
              "      border-top-color: var(--fill-color);\n",
              "      border-right-color: var(--fill-color);\n",
              "    }\n",
              "    40% {\n",
              "      border-color: transparent;\n",
              "      border-right-color: var(--fill-color);\n",
              "      border-top-color: var(--fill-color);\n",
              "    }\n",
              "    60% {\n",
              "      border-color: transparent;\n",
              "      border-right-color: var(--fill-color);\n",
              "    }\n",
              "    80% {\n",
              "      border-color: transparent;\n",
              "      border-right-color: var(--fill-color);\n",
              "      border-bottom-color: var(--fill-color);\n",
              "    }\n",
              "    90% {\n",
              "      border-color: transparent;\n",
              "      border-bottom-color: var(--fill-color);\n",
              "    }\n",
              "  }\n",
              "</style>\n",
              "\n",
              "      <script>\n",
              "        async function quickchart(key) {\n",
              "          const quickchartButtonEl =\n",
              "            document.querySelector('#' + key + ' button');\n",
              "          quickchartButtonEl.disabled = true;  // To prevent multiple clicks.\n",
              "          quickchartButtonEl.classList.add('colab-df-spinner');\n",
              "          try {\n",
              "            const charts = await google.colab.kernel.invokeFunction(\n",
              "                'suggestCharts', [key], {});\n",
              "          } catch (error) {\n",
              "            console.error('Error during call to suggestCharts:', error);\n",
              "          }\n",
              "          quickchartButtonEl.classList.remove('colab-df-spinner');\n",
              "          quickchartButtonEl.classList.add('colab-df-quickchart-complete');\n",
              "        }\n",
              "        (() => {\n",
              "          let quickchartButtonEl =\n",
              "            document.querySelector('#df-fd294ebc-02ca-4416-9c81-22dab26b152c button');\n",
              "          quickchartButtonEl.style.display =\n",
              "            google.colab.kernel.accessAllowed ? 'block' : 'none';\n",
              "        })();\n",
              "      </script>\n",
              "    </div>\n",
              "\n",
              "    </div>\n",
              "  </div>\n"
            ],
            "application/vnd.google.colaboratory.intrinsic+json": {
              "type": "dataframe",
              "variable_name": "data",
              "summary": "{\n  \"name\": \"data\",\n  \"rows\": 5572,\n  \"fields\": [\n    {\n      \"column\": \"v1\",\n      \"properties\": {\n        \"dtype\": \"category\",\n        \"num_unique_values\": 2,\n        \"samples\": [\n          \"spam\",\n          \"ham\"\n        ],\n        \"semantic_type\": \"\",\n        \"description\": \"\"\n      }\n    },\n    {\n      \"column\": \"v2\",\n      \"properties\": {\n        \"dtype\": \"string\",\n        \"num_unique_values\": 5169,\n        \"samples\": [\n          \"Did u download the fring app?\",\n          \"Pass dis to all ur contacts n see wat u get! Red;i'm in luv wid u. Blue;u put a smile on my face. Purple;u r realy hot. Pink;u r so swt. Orange;i thnk i lyk u. Green;i realy wana go out wid u. Yelow;i wnt u bck. Black;i'm jealous of u. Brown;i miss you Nw plz giv me one color\"\n        ],\n        \"semantic_type\": \"\",\n        \"description\": \"\"\n      }\n    },\n    {\n      \"column\": \"Unnamed: 2\",\n      \"properties\": {\n        \"dtype\": \"category\",\n        \"num_unique_values\": 43,\n        \"samples\": [\n          \" GOD said\",\n          \" SHE SHUDVETOLD U. DID URGRAN KNOW?NEWAY\"\n        ],\n        \"semantic_type\": \"\",\n        \"description\": \"\"\n      }\n    },\n    {\n      \"column\": \"Unnamed: 3\",\n      \"properties\": {\n        \"dtype\": \"category\",\n        \"num_unique_values\": 10,\n        \"samples\": [\n          \" \\\\\\\"OH No! COMPETITION\\\\\\\". Who knew\",\n          \" why to miss them\"\n        ],\n        \"semantic_type\": \"\",\n        \"description\": \"\"\n      }\n    },\n    {\n      \"column\": \"Unnamed: 4\",\n      \"properties\": {\n        \"dtype\": \"category\",\n        \"num_unique_values\": 5,\n        \"samples\": [\n          \"GNT:-)\\\"\",\n          \" one day these two will become FREINDS FOREVER!\\\"\"\n        ],\n        \"semantic_type\": \"\",\n        \"description\": \"\"\n      }\n    }\n  ]\n}"
            }
          },
          "metadata": {},
          "execution_count": 43
        }
      ]
    },
    {
      "cell_type": "code",
      "source": [
        "# View the column names\n",
        "print(data.columns)"
      ],
      "metadata": {
        "colab": {
          "base_uri": "https://localhost:8080/"
        },
        "id": "IQe5rbmea40d",
        "outputId": "6834b3c5-fc9d-4e14-dd95-cc037d62004d"
      },
      "execution_count": 44,
      "outputs": [
        {
          "output_type": "stream",
          "name": "stdout",
          "text": [
            "Index(['v1', 'v2', 'Unnamed: 2', 'Unnamed: 3', 'Unnamed: 4'], dtype='object')\n"
          ]
        }
      ]
    },
    {
      "cell_type": "code",
      "source": [
        "# Load and Clean Data\n",
        "\n",
        "# Keep only relevant columns and rename them\n",
        "data = data[['v1', 'v2']]  #.copy()\n",
        "data.columns = ['label', 'text']\n",
        "\n",
        "# Convert labels to binary values\n",
        "data['label'] = data['label'].map({'ham': 0, 'spam': 1})\n",
        "\n",
        "# Drop any rows with missing labels or duplicates\n",
        "data = data.dropna(subset=['label']).drop_duplicates().reset_index(drop=True)\n",
        "\n",
        "# --- Quick Summary Stats ---\n",
        "\n",
        "print(\"Dataset shape:\", data.shape)\n",
        "print(\"\\nMissing values:\\n\", data.isnull().sum())\n",
        "print(\"\\nDuplicate rows:\", data.duplicated().sum())\n",
        "print(\"\\nLabel counts:\\n\", data['label'].value_counts())\n",
        "\n",
        "# Styling in Jupyter notebook\n",
        "\n",
        "data.head().style.set_table_styles([\n",
        "    {\"selector\": \"th\", \"props\": [(\"color\", 'black'), (\"background-color\", \"#00BFFF\")]}\n",
        "])"
      ],
      "metadata": {
        "colab": {
          "base_uri": "https://localhost:8080/",
          "height": 449
        },
        "id": "-TD2AwFncdr-",
        "outputId": "920a3787-a875-454d-d43c-1ad41dab126d"
      },
      "execution_count": 45,
      "outputs": [
        {
          "output_type": "stream",
          "name": "stdout",
          "text": [
            "Dataset shape: (5169, 2)\n",
            "\n",
            "Missing values:\n",
            " label    0\n",
            "text     0\n",
            "dtype: int64\n",
            "\n",
            "Duplicate rows: 0\n",
            "\n",
            "Label counts:\n",
            " label\n",
            "0    4516\n",
            "1     653\n",
            "Name: count, dtype: int64\n"
          ]
        },
        {
          "output_type": "execute_result",
          "data": {
            "text/plain": [
              "<pandas.io.formats.style.Styler at 0x7e6549484090>"
            ],
            "text/html": [
              "<style type=\"text/css\">\n",
              "#T_5f052 th {\n",
              "  color: black;\n",
              "  background-color: #00BFFF;\n",
              "}\n",
              "</style>\n",
              "<table id=\"T_5f052\" class=\"dataframe\">\n",
              "  <thead>\n",
              "    <tr>\n",
              "      <th class=\"blank level0\" >&nbsp;</th>\n",
              "      <th id=\"T_5f052_level0_col0\" class=\"col_heading level0 col0\" >label</th>\n",
              "      <th id=\"T_5f052_level0_col1\" class=\"col_heading level0 col1\" >text</th>\n",
              "    </tr>\n",
              "  </thead>\n",
              "  <tbody>\n",
              "    <tr>\n",
              "      <th id=\"T_5f052_level0_row0\" class=\"row_heading level0 row0\" >0</th>\n",
              "      <td id=\"T_5f052_row0_col0\" class=\"data row0 col0\" >0</td>\n",
              "      <td id=\"T_5f052_row0_col1\" class=\"data row0 col1\" >Go until jurong point, crazy.. Available only in bugis n great world la e buffet... Cine there got amore wat...</td>\n",
              "    </tr>\n",
              "    <tr>\n",
              "      <th id=\"T_5f052_level0_row1\" class=\"row_heading level0 row1\" >1</th>\n",
              "      <td id=\"T_5f052_row1_col0\" class=\"data row1 col0\" >0</td>\n",
              "      <td id=\"T_5f052_row1_col1\" class=\"data row1 col1\" >Ok lar... Joking wif u oni...</td>\n",
              "    </tr>\n",
              "    <tr>\n",
              "      <th id=\"T_5f052_level0_row2\" class=\"row_heading level0 row2\" >2</th>\n",
              "      <td id=\"T_5f052_row2_col0\" class=\"data row2 col0\" >1</td>\n",
              "      <td id=\"T_5f052_row2_col1\" class=\"data row2 col1\" >Free entry in 2 a wkly comp to win FA Cup final tkts 21st May 2005. Text FA to 87121 to receive entry question(std txt rate)T&C's apply 08452810075over18's</td>\n",
              "    </tr>\n",
              "    <tr>\n",
              "      <th id=\"T_5f052_level0_row3\" class=\"row_heading level0 row3\" >3</th>\n",
              "      <td id=\"T_5f052_row3_col0\" class=\"data row3 col0\" >0</td>\n",
              "      <td id=\"T_5f052_row3_col1\" class=\"data row3 col1\" >U dun say so early hor... U c already then say...</td>\n",
              "    </tr>\n",
              "    <tr>\n",
              "      <th id=\"T_5f052_level0_row4\" class=\"row_heading level0 row4\" >4</th>\n",
              "      <td id=\"T_5f052_row4_col0\" class=\"data row4 col0\" >0</td>\n",
              "      <td id=\"T_5f052_row4_col1\" class=\"data row4 col1\" >Nah I don't think he goes to usf, he lives around here though</td>\n",
              "    </tr>\n",
              "  </tbody>\n",
              "</table>\n"
            ]
          },
          "metadata": {},
          "execution_count": 45
        }
      ]
    },
    {
      "cell_type": "markdown",
      "source": [
        "\n",
        "\n",
        "---\n",
        "\n"
      ],
      "metadata": {
        "id": "b57knyMQX2f3"
      }
    },
    {
      "cell_type": "markdown",
      "source": [
        "# **Exploring the Data with Visualizations**"
      ],
      "metadata": {
        "id": "dgwLX_TKX4Pb"
      }
    },
    {
      "cell_type": "code",
      "source": [
        "# Count how many spam and ham messages\n",
        "values = data['label'].value_counts()\n",
        "total = values.sum()\n",
        "\n",
        "percentage_ham = (values[0] / total) * 100\n",
        "percentage_spam = (values[1] / total) * 100\n",
        "\n",
        "print(f'Ham (0): {percentage_ham:.2f}%')\n",
        "print(f'Spam (1): {percentage_spam:.2f}%')"
      ],
      "metadata": {
        "colab": {
          "base_uri": "https://localhost:8080/"
        },
        "id": "NEDkKa1DX_r2",
        "outputId": "f2064e19-8392-4eb2-d76f-4e837abbd4d1"
      },
      "execution_count": 46,
      "outputs": [
        {
          "output_type": "stream",
          "name": "stdout",
          "text": [
            "Ham (0): 87.37%\n",
            "Spam (1): 12.63%\n"
          ]
        }
      ]
    },
    {
      "cell_type": "code",
      "source": [
        "# Donut Chart\n",
        "labels = ['Ham', 'Spam']\n",
        "sizes = [values[0], values[1]]\n",
        "colors = ['#33FF57', '#FF5733']\n",
        "explode = (0, 0.1)\n",
        "\n",
        "fig, ax = plt.subplots(figsize=(8, 8))\n",
        "wedges, texts, autotexts = ax.pie(\n",
        "    sizes, labels=labels, autopct='%1.1f%%',\n",
        "    startangle=90, colors=colors, explode=explode, shadow=True,\n",
        "    wedgeprops=dict(width=0.4, edgecolor='white')  # Makes it a donut\n",
        ")\n",
        "\n",
        "for text, autotext in zip(texts, autotexts):\n",
        "    text.set(size=14, weight='bold')\n",
        "    autotext.set(size=14, weight='bold')\n",
        "\n",
        "ax.set_title('Donut Chart of Ham vs Spam Emails', fontsize=16, fontweight='bold')\n",
        "ax.axis('equal')\n",
        "plt.show()"
      ],
      "metadata": {
        "colab": {
          "base_uri": "https://localhost:8080/",
          "height": 677
        },
        "id": "90tGDFwvgUJ5",
        "outputId": "e6b49c26-eb07-4229-b0d2-a1d125a2c757"
      },
      "execution_count": 47,
      "outputs": [
        {
          "output_type": "display_data",
          "data": {
            "text/plain": [
              "<Figure size 800x800 with 1 Axes>"
            ],
            "image/png": "[encoded data removed]"
          },
          "metadata": {}
        }
      ]
    },
    {
      "cell_type": "markdown",
      "source": [
        "This is comparison is clearly imbalanced. In binary classification problems, a dataset is **balanced** if both classes are roughly equal proportionately. This dataset is imbalanced because Ham significantly outweighs Spam.\n",
        "\n",
        "A naive model coudl predict everything as \"Ham\" but will be useless at predicting \"Spam\" (poor recall for the minority class)."
      ],
      "metadata": {
        "id": "r97wFC2Jg655"
      }
    },
    {
      "cell_type": "code",
      "source": [
        "# Training and Predicting Spam messages\n",
        "\n",
        "# Split the data\n",
        "X = data['text']\n",
        "y = data['label']\n",
        "\n",
        "X_train, X_test, y_train, y_test = train_test_split(\n",
        "    X, y, stratify=y, test_size=0.2, random_state=42\n",
        ")\n",
        "\n",
        "# Vectorize the text data\n",
        "vectorizer = TfidfVectorizer(stop_words='english')\n",
        "X_train_vec = vectorizer.fit_transform(X_train)\n",
        "X_test_vec = vectorizer.transform(X_test)\n",
        "\n",
        "# Train a model\n",
        "model = MultinomialNB()\n",
        "model.fit(X_train_vec, y_train)\n",
        "\n",
        "# Make predictions\n",
        "y_pred = model.predict(X_test_vec)\n",
        "\n",
        "# Evaluate the model\n",
        "print(classification_report(y_test, y_pred, target_names=['Ham', 'Spam']))"
      ],
      "metadata": {
        "colab": {
          "base_uri": "https://localhost:8080/"
        },
        "id": "6oYbYGxChpdz",
        "outputId": "d6412273-550e-4c56-903d-e5171229751d"
      },
      "execution_count": 48,
      "outputs": [
        {
          "output_type": "stream",
          "name": "stdout",
          "text": [
            "              precision    recall  f1-score   support\n",
            "\n",
            "         Ham       0.96      1.00      0.98       903\n",
            "        Spam       0.99      0.74      0.85       131\n",
            "\n",
            "    accuracy                           0.97      1034\n",
            "   macro avg       0.98      0.87      0.91      1034\n",
            "weighted avg       0.97      0.97      0.96      1034\n",
            "\n"
          ]
        }
      ]
    },
    {
      "cell_type": "markdown",
      "source": [
        "Recall was not great. I want to catch as much spam as I can.\n",
        "\n",
        "I will use Oversampling to boost recall for Spam messages. Hopefully this will give me a better balance in the training data."
      ],
      "metadata": {
        "id": "HiTwQYO4jVGv"
      }
    },
    {
      "cell_type": "code",
      "source": [
        "# Use Oversampling to boost recall for spam messages\n",
        "ros = RandomOverSampler(random_state=42) # Better balance in the training data\n",
        "\n",
        "# Vectorized features X_train_vec; hope to see more spam during training\n",
        "X_resampled, y_resampled = ros.fit_resample(X_train_vec, y_train)"
      ],
      "metadata": {
        "id": "_MnpvjdFjYp_"
      },
      "execution_count": 49,
      "outputs": []
    },
    {
      "cell_type": "code",
      "source": [
        "# Train the model on the resampled data\n",
        "model = MultinomialNB()\n",
        "model.fit(X_resampled, y_resampled)\n",
        "\n",
        "# Predict on original test set\n",
        "y_pred_ros = model.predict(X_test_vec)\n",
        "\n",
        "# Evaluate again\n",
        "from sklearn.metrics import classification_report\n",
        "print(classification_report(y_test, y_pred_ros, target_names=['Ham', 'Spam']))"
      ],
      "metadata": {
        "colab": {
          "base_uri": "https://localhost:8080/"
        },
        "id": "qu9H9ehpjbPS",
        "outputId": "f5a93f92-45b9-4baa-b31d-5d7e333bd339"
      },
      "execution_count": 50,
      "outputs": [
        {
          "output_type": "stream",
          "name": "stdout",
          "text": [
            "              precision    recall  f1-score   support\n",
            "\n",
            "         Ham       1.00      0.97      0.98       903\n",
            "        Spam       0.82      0.97      0.89       131\n",
            "\n",
            "    accuracy                           0.97      1034\n",
            "   macro avg       0.91      0.97      0.94      1034\n",
            "weighted avg       0.97      0.97      0.97      1034\n",
            "\n"
          ]
        }
      ]
    },
    {
      "cell_type": "markdown",
      "source": [
        "Spam recall went up tremendously. F1 score overall was better as well. Precision did drop but that was to be expected."
      ],
      "metadata": {
        "id": "nR8TDxfEvqnc"
      }
    },
    {
      "cell_type": "code",
      "source": [
        "# Compare models\n",
        "print(\"Before Oversampling:\")\n",
        "print(classification_report(y_test, y_pred))\n",
        "\n",
        "print(\"After Oversampling:\")\n",
        "print(classification_report(y_test, y_pred_ros))"
      ],
      "metadata": {
        "colab": {
          "base_uri": "https://localhost:8080/"
        },
        "id": "ul1R0FItvt-T",
        "outputId": "eb6e4861-cef2-412f-8199-9cd7c01bf873"
      },
      "execution_count": 51,
      "outputs": [
        {
          "output_type": "stream",
          "name": "stdout",
          "text": [
            "Before Oversampling:\n",
            "              precision    recall  f1-score   support\n",
            "\n",
            "           0       0.96      1.00      0.98       903\n",
            "           1       0.99      0.74      0.85       131\n",
            "\n",
            "    accuracy                           0.97      1034\n",
            "   macro avg       0.98      0.87      0.91      1034\n",
            "weighted avg       0.97      0.97      0.96      1034\n",
            "\n",
            "After Oversampling:\n",
            "              precision    recall  f1-score   support\n",
            "\n",
            "           0       1.00      0.97      0.98       903\n",
            "           1       0.82      0.97      0.89       131\n",
            "\n",
            "    accuracy                           0.97      1034\n",
            "   macro avg       0.91      0.97      0.94      1034\n",
            "weighted avg       0.97      0.97      0.97      1034\n",
            "\n"
          ]
        }
      ]
    },
    {
      "cell_type": "code",
      "source": [
        "# Visualize what is being caught and missed\n",
        "cm = confusion_matrix(y_test, y_pred_ros)\n",
        "sns.heatmap(cm, annot=True, fmt='d', cmap='Blues', xticklabels=['Ham', 'Spam'], yticklabels=['Ham', 'Spam'])\n",
        "plt.xlabel('Predicted')\n",
        "plt.ylabel('Actual')\n",
        "plt.title('Confusion Matrix')\n",
        "plt.show()"
      ],
      "metadata": {
        "colab": {
          "base_uri": "https://localhost:8080/",
          "height": 472
        },
        "id": "02CGxrXhBPRM",
        "outputId": "df9749b1-7f99-4bee-aee1-5e9d8c05355e"
      },
      "execution_count": 52,
      "outputs": [
        {
          "output_type": "display_data",
          "data": {
            "text/plain": [
              "<Figure size 640x480 with 2 Axes>"
            ],
            "image/png": "[encoded data removed]"
          },
          "metadata": {}
        }
      ]
    },
    {
      "cell_type": "markdown",
      "source": [
        "I tried running a Logistic Regression as well as a Random Forest Classifier. No improvements were made. I have extracted all the performance I can from the model.\n",
        "\n",
        "Now, I will try a Neural Classifier. Using Keras (TensorFlow) and Tokenizer, I might potentially catch hard-to-spot Spam messages that were missed by tradional models."
      ],
      "metadata": {
        "id": "MpXjwQN_Chmu"
      }
    },
    {
      "cell_type": "code",
      "source": [
        "# Neural Network for Text Classification\n",
        "\n",
        "# Force CPU usage to avoid graph execution errors\n",
        "os.environ['CUDA_VISIBLE_DEVICES'] = '-1'\n",
        "\n",
        "# Sanity check to drop any remaining NaN rows (if any slipped in)\n",
        "data = data.dropna(subset=['label'])\n",
        "\n",
        "# Step 1: Split data\n",
        "X = data['text']\n",
        "y = data['label']\n",
        "X_train, X_test, y_train, y_test = train_test_split(X, y, stratify=y, test_size=0.2, random_state=42)\n",
        "\n",
        "\n",
        "# Step 2: Tokenize and pad sequences\n",
        "tokenizer = Tokenizer(num_words=10000, oov_token='<OOV>')\n",
        "tokenizer.fit_on_texts(X_train)\n",
        "\n",
        "X_train_seq = tokenizer.texts_to_sequences(X_train)\n",
        "X_test_seq = tokenizer.texts_to_sequences(X_test)\n",
        "\n",
        "X_train_pad = pad_sequences(X_train_seq, maxlen=100, padding='post', truncating='post')\n",
        "X_test_pad = pad_sequences(X_test_seq, maxlen=100, padding='post', truncating='post')\n",
        "\n",
        "# Convert to NumPy arrays\n",
        "y_train = np.array(y_train)\n",
        "y_test = np.array(y_test)\n",
        "\n",
        "# Cast labels to float32 for model training\n",
        "y_train = y_train.astype('float32')\n",
        "y_test = y_test.astype('float32')\n",
        "\n",
        "# Step 3: Build model (same as before)\n",
        "model = Sequential([\n",
        "    Embedding(input_dim=10000, output_dim=16),\n",
        "    GlobalAveragePooling1D(),\n",
        "    Dense(24, activation='relu'),\n",
        "    Dense(1, activation='sigmoid')\n",
        "])\n",
        "\n",
        "model.compile(loss='binary_crossentropy', optimizer='adam', metrics=['accuracy'])\n",
        "\n",
        "# Compute class weights\n",
        "from sklearn.utils import class_weight\n",
        "\n",
        "weights = class_weight.compute_class_weight(\n",
        "    class_weight='balanced',\n",
        "    classes=np.unique(y_train),\n",
        "    y=y_train\n",
        ")\n",
        "\n",
        "class_weights = {0: weights[0], 1: weights[1]}\n",
        "\n",
        "# Step 4: Train with weights\n",
        "model.fit(X_train_pad, y_train, epochs=10,\n",
        "          validation_data=(X_test_pad, y_test),\n",
        "          class_weight=class_weights,\n",
        "          verbose=2)"
      ],
      "metadata": {
        "colab": {
          "base_uri": "https://localhost:8080/"
        },
        "id": "wEPrtxYKDCPl",
        "outputId": "e8d257d8-3694-4b70-fb66-7066c35f055f"
      },
      "execution_count": 53,
      "outputs": [
        {
          "output_type": "stream",
          "name": "stdout",
          "text": [
            "Epoch 1/10\n",
            "130/130 - 4s - 28ms/step - accuracy: 0.7139 - loss: 0.6858 - val_accuracy: 0.8723 - val_loss: 0.6082\n",
            "Epoch 2/10\n",
            "130/130 - 1s - 8ms/step - accuracy: 0.8440 - loss: 0.6481 - val_accuracy: 0.9275 - val_loss: 0.5224\n",
            "Epoch 3/10\n",
            "130/130 - 2s - 12ms/step - accuracy: 0.9753 - loss: 0.5173 - val_accuracy: 0.9681 - val_loss: 0.3227\n",
            "Epoch 4/10\n",
            "130/130 - 2s - 17ms/step - accuracy: 0.9794 - loss: 0.3040 - val_accuracy: 0.9720 - val_loss: 0.2358\n",
            "Epoch 5/10\n",
            "130/130 - 1s - 10ms/step - accuracy: 0.9773 - loss: 0.1896 - val_accuracy: 0.9797 - val_loss: 0.1282\n",
            "Epoch 6/10\n",
            "130/130 - 1s - 9ms/step - accuracy: 0.9819 - loss: 0.1434 - val_accuracy: 0.9758 - val_loss: 0.1175\n",
            "Epoch 7/10\n",
            "130/130 - 1s - 11ms/step - accuracy: 0.9848 - loss: 0.1163 - val_accuracy: 0.9826 - val_loss: 0.0864\n",
            "Epoch 8/10\n",
            "130/130 - 2s - 12ms/step - accuracy: 0.9862 - loss: 0.0945 - val_accuracy: 0.9758 - val_loss: 0.1058\n",
            "Epoch 9/10\n",
            "130/130 - 3s - 19ms/step - accuracy: 0.9857 - loss: 0.0850 - val_accuracy: 0.9758 - val_loss: 0.1016\n",
            "Epoch 10/10\n",
            "130/130 - 2s - 16ms/step - accuracy: 0.9874 - loss: 0.0757 - val_accuracy: 0.9797 - val_loss: 0.0801\n"
          ]
        },
        {
          "output_type": "execute_result",
          "data": {
            "text/plain": [
              "<keras.src.callbacks.history.History at 0x7e6549465cd0>"
            ]
          },
          "metadata": {},
          "execution_count": 53
        }
      ]
    },
    {
      "cell_type": "markdown",
      "source": [
        "Running 10 Epoch's were beneficial. The Accuracy, Loss, Value Accuracy, and Value Loss all began leveling out around Epoch 9 – 10."
      ],
      "metadata": {
        "id": "EKyxQA-VajgL"
      }
    },
    {
      "cell_type": "code",
      "source": [
        "# Comparing the two models (Oversampling and NN)\n",
        "y_pred_prob = model.predict(X_test_pad).flatten()\n",
        "y_pred = (y_pred_prob >= 0.3).astype(int)  # You can also try 0.4 or 0.3\n",
        "\n",
        "print(classification_report(y_test, y_pred, target_names=['Ham', 'Spam']))"
      ],
      "metadata": {
        "colab": {
          "base_uri": "https://localhost:8080/"
        },
        "id": "Xnfv72r1JI81",
        "outputId": "3b346988-4f56-4ebf-a9b1-179097ed0a8e"
      },
      "execution_count": 54,
      "outputs": [
        {
          "output_type": "stream",
          "name": "stdout",
          "text": [
            "\u001b[1m33/33\u001b[0m \u001b[32m━━━━━━━━━━━━━━━━━━━━\u001b[0m\u001b[37m\u001b[0m \u001b[1m0s\u001b[0m 4ms/step\n",
            "              precision    recall  f1-score   support\n",
            "\n",
            "         Ham       0.99      0.98      0.98       903\n",
            "        Spam       0.84      0.91      0.88       131\n",
            "\n",
            "    accuracy                           0.97      1034\n",
            "   macro avg       0.92      0.94      0.93      1034\n",
            "weighted avg       0.97      0.97      0.97      1034\n",
            "\n"
          ]
        }
      ]
    },
    {
      "cell_type": "code",
      "source": [
        "# Visualize what is being caught and missed\n",
        "cm = confusion_matrix(y_test, y_pred)\n",
        "sns.heatmap(cm, annot=True, fmt='d', cmap='Blues',\n",
        "            xticklabels=['Ham', 'Spam'],\n",
        "            yticklabels=['Ham', 'Spam'])\n",
        "plt.xlabel('Predicted')\n",
        "plt.ylabel('Actual')\n",
        "plt.title('Confusion Matrix (Neural Network)')\n",
        "plt.show()"
      ],
      "metadata": {
        "colab": {
          "base_uri": "https://localhost:8080/",
          "height": 472
        },
        "id": "crUoYY_5JiZB",
        "outputId": "54880f19-b678-47cb-b715-d3849ca455a7"
      },
      "execution_count": 55,
      "outputs": [
        {
          "output_type": "display_data",
          "data": {
            "text/plain": [
              "<Figure size 640x480 with 2 Axes>"
            ],
            "image/png": "[encoded data removed]"
          },
          "metadata": {}
        }
      ]
    },
    {
      "cell_type": "markdown",
      "source": [
        "Even though this shows Spam recall to be much better, the precision is below 70 - 80%. This means that many messages were flagged as Spam when they actually were not Spam (90, to be precise)."
      ],
      "metadata": {
        "id": "Y9aDw4jpUeZA"
      }
    },
    {
      "cell_type": "code",
      "source": [
        "# Precision-Recall Curve\n",
        "precisions, recalls, thresholds = precision_recall_curve(y_test, y_pred_prob)\n",
        "\n",
        "plt.figure(figsize=(8, 6))\n",
        "plt.plot(thresholds, precisions[:-1], label='Precision')\n",
        "plt.plot(thresholds, recalls[:-1], label='Recall')\n",
        "plt.xlabel('Threshold')\n",
        "plt.ylabel('Score')\n",
        "plt.title('Precision-Recall vs Threshold')\n",
        "plt.legend()\n",
        "plt.grid(True)\n",
        "plt.show()"
      ],
      "metadata": {
        "colab": {
          "base_uri": "https://localhost:8080/",
          "height": 564
        },
        "id": "ktBuFyTiTRnb",
        "outputId": "6f190869-2897-42f7-99df-d93eaebb8b2a"
      },
      "execution_count": 56,
      "outputs": [
        {
          "output_type": "display_data",
          "data": {
            "text/plain": [
              "<Figure size 800x600 with 1 Axes>"
            ],
            "image/png": "[encoded data removed]"
          },
          "metadata": {}
        }
      ]
    },
    {
      "cell_type": "markdown",
      "source": [
        "This appears to show that the exact threshold where recall and precision are both acceptable would be 0.65."
      ],
      "metadata": {
        "id": "84qeA1NVJGEM"
      }
    },
    {
      "cell_type": "code",
      "source": [
        "# Comparing the two models (Oversampling and NN)\n",
        "y_pred_prob = model.predict(X_test_pad).flatten()\n",
        "y_pred = (y_pred_prob >= 0.65).astype(int)  # You can also try 0.4 or 0.3\n",
        "\n",
        "print(classification_report(y_test, y_pred, target_names=['Ham', 'Spam']))"
      ],
      "metadata": {
        "colab": {
          "base_uri": "https://localhost:8080/"
        },
        "id": "XcW4rG2OT3gJ",
        "outputId": "d6cfa000-2a39-4f12-94a1-7fd483bb19bd"
      },
      "execution_count": 57,
      "outputs": [
        {
          "output_type": "stream",
          "name": "stdout",
          "text": [
            "\u001b[1m33/33\u001b[0m \u001b[32m━━━━━━━━━━━━━━━━━━━━\u001b[0m\u001b[37m\u001b[0m \u001b[1m0s\u001b[0m 3ms/step\n",
            "              precision    recall  f1-score   support\n",
            "\n",
            "         Ham       0.98      1.00      0.99       903\n",
            "        Spam       0.97      0.88      0.92       131\n",
            "\n",
            "    accuracy                           0.98      1034\n",
            "   macro avg       0.98      0.94      0.96      1034\n",
            "weighted avg       0.98      0.98      0.98      1034\n",
            "\n"
          ]
        }
      ]
    },
    {
      "cell_type": "code",
      "source": [
        "# Visualize what is being caught and missed\n",
        "cm = confusion_matrix(y_test, y_pred)\n",
        "sns.heatmap(cm, annot=True, fmt='d', cmap='Blues',\n",
        "            xticklabels=['Ham', 'Spam'],\n",
        "            yticklabels=['Ham', 'Spam'])\n",
        "plt.xlabel('Predicted')\n",
        "plt.ylabel('Actual')\n",
        "plt.title('Confusion Matrix (Neural Network)')\n",
        "plt.show()"
      ],
      "metadata": {
        "colab": {
          "base_uri": "https://localhost:8080/",
          "height": 472
        },
        "id": "N2K7sARZT7Vy",
        "outputId": "80725e14-e8be-47fb-b989-d1110bec3b2f"
      },
      "execution_count": 58,
      "outputs": [
        {
          "output_type": "display_data",
          "data": {
            "text/plain": [
              "<Figure size 640x480 with 2 Axes>"
            ],
            "image/png": "[encoded data removed]"
          },
          "metadata": {}
        }
      ]
    },
    {
      "cell_type": "markdown",
      "source": [
        "This does appear to be the exact threshold of recall and precision.\n",
        "\n",
        "In the real-world, recall is prioritized, but precision is still kept above 70–80%.\n",
        "\n",
        "\n"
      ],
      "metadata": {
        "id": "qV7rhX_gT9mf"
      }
    },
    {
      "cell_type": "code",
      "source": [
        "# Comparing the two models (Oversampling and NN)\n",
        "y_pred_prob = model.predict(X_test_pad).flatten()\n",
        "y_pred = (y_pred_prob >= 0.4).astype(int)  # You can also try 0.4 or 0.3\n",
        "\n",
        "print(classification_report(y_test, y_pred, target_names=['Ham', 'Spam']))"
      ],
      "metadata": {
        "colab": {
          "base_uri": "https://localhost:8080/"
        },
        "id": "NdYavEjIUtez",
        "outputId": "4017aa95-b53a-441a-b346-f502857a66e1"
      },
      "execution_count": 59,
      "outputs": [
        {
          "output_type": "stream",
          "name": "stdout",
          "text": [
            "\u001b[1m33/33\u001b[0m \u001b[32m━━━━━━━━━━━━━━━━━━━━\u001b[0m\u001b[37m\u001b[0m \u001b[1m0s\u001b[0m 2ms/step \n",
            "              precision    recall  f1-score   support\n",
            "\n",
            "         Ham       0.99      0.99      0.99       903\n",
            "        Spam       0.91      0.90      0.90       131\n",
            "\n",
            "    accuracy                           0.98      1034\n",
            "   macro avg       0.95      0.94      0.95      1034\n",
            "weighted avg       0.98      0.98      0.98      1034\n",
            "\n"
          ]
        }
      ]
    },
    {
      "cell_type": "code",
      "source": [
        "# Visualize what is being caught and missed\n",
        "cm = confusion_matrix(y_test, y_pred)\n",
        "sns.heatmap(cm, annot=True, fmt='d', cmap='Blues',\n",
        "            xticklabels=['Ham', 'Spam'],\n",
        "            yticklabels=['Ham', 'Spam'])\n",
        "plt.xlabel('Predicted')\n",
        "plt.ylabel('Actual')\n",
        "plt.title('Confusion Matrix (Neural Network)')\n",
        "plt.show()"
      ],
      "metadata": {
        "colab": {
          "base_uri": "https://localhost:8080/",
          "height": 472
        },
        "id": "w11jVscZUzDp",
        "outputId": "b50e9d13-2ed4-4424-a12a-22a7b7bf8baf"
      },
      "execution_count": 60,
      "outputs": [
        {
          "output_type": "display_data",
          "data": {
            "text/plain": [
              "<Figure size 640x480 with 2 Axes>"
            ],
            "image/png": "[encoded data removed]"
          },
          "metadata": {}
        }
      ]
    },
    {
      "cell_type": "markdown",
      "source": [
        "This is the absolute lowest I should go before precision drops below 70%. Neural Networks did not improve compared to After Oversampling."
      ],
      "metadata": {
        "id": "89yVTHXrU9-j"
      }
    },
    {
      "cell_type": "code",
      "source": [
        "# Model Comparision\n",
        "print(\"=\" * 40)\n",
        "print(\"MODEL COMPARISON\")\n",
        "print(\"=\" * 40)\n",
        "\n",
        "print(\"\\n📦 After Oversampling (e.g., Logistic Regression)\")\n",
        "print(\"-\" * 40)\n",
        "print(classification_report(y_test, y_pred_ros, target_names=['Ham', 'Spam']))\n",
        "\n",
        "print(\"\\n🧠 Neural Network\")\n",
        "print(\"-\" * 40)\n",
        "print(classification_report(y_test, y_pred, target_names=['Ham', 'Spam']))"
      ],
      "metadata": {
        "colab": {
          "base_uri": "https://localhost:8080/"
        },
        "id": "6yz5qhe4WTT9",
        "outputId": "75ccb770-44f8-439b-89c6-d3f82b0081fc"
      },
      "execution_count": 61,
      "outputs": [
        {
          "output_type": "stream",
          "name": "stdout",
          "text": [
            "========================================\n",
            "MODEL COMPARISON\n",
            "========================================\n",
            "\n",
            "📦 After Oversampling (e.g., Logistic Regression)\n",
            "----------------------------------------\n",
            "              precision    recall  f1-score   support\n",
            "\n",
            "         Ham       1.00      0.97      0.98       903\n",
            "        Spam       0.82      0.97      0.89       131\n",
            "\n",
            "    accuracy                           0.97      1034\n",
            "   macro avg       0.91      0.97      0.94      1034\n",
            "weighted avg       0.97      0.97      0.97      1034\n",
            "\n",
            "\n",
            "🧠 Neural Network\n",
            "----------------------------------------\n",
            "              precision    recall  f1-score   support\n",
            "\n",
            "         Ham       0.99      0.99      0.99       903\n",
            "        Spam       0.91      0.90      0.90       131\n",
            "\n",
            "    accuracy                           0.98      1034\n",
            "   macro avg       0.95      0.94      0.95      1034\n",
            "weighted avg       0.98      0.98      0.98      1034\n",
            "\n"
          ]
        }
      ]
    },
    {
      "cell_type": "markdown",
      "source": [
        "\n",
        "\n",
        "---\n",
        "\n"
      ],
      "metadata": {
        "id": "PjTFt2vZaOeN"
      }
    },
    {
      "cell_type": "markdown",
      "source": [
        "# **Conclusion**\n",
        "\n",
        "## **After Oversampling outperforms Neural Networks**\n",
        "\n",
        "Compared to Neural Networks, after Oversampling had higher F1 Score, recall, and precision.\n",
        "\n",
        "## **Why did After Oversampling outperform Neural Networks?**\n",
        "\n",
        "1) The oversampling model capitalized on the surface-level text patterns common in spam messages, which made a linear classifier a natural fit for this type of classification.\n",
        "\n",
        "2) Because SMS messages are short, TF-IDF effectively isolated spam-related keywords, allowing the oversampling model to learn discriminative features with relatively little complexity.\n",
        "\n",
        "3) Oversampling balanced the training data, allowing the classifier to learn spam characteristics more effectively. This contributed to a higher recall rate, which was the primary objective of the project.\n",
        "\n",
        "4) Although neural networks are capable of learning more abstract patterns, the shallow architecture used here may have been insufficient for capturing nuanced relationships in the text.\n",
        "\n",
        "5) Training word embeddings from scratch limited the model's ability to generalize beyond the training set. Using pretrained embeddings or models like BERT may improve performance in future work.\n"
      ],
      "metadata": {
        "id": "DnTro2RGXrsZ"
      }
    }
  ]
}